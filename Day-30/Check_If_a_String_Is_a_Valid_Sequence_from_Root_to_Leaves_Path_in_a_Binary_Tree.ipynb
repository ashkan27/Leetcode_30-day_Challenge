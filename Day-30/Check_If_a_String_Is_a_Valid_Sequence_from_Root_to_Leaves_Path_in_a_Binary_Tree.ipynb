{
 "cells": [
  {
   "cell_type": "markdown",
   "metadata": {},
   "source": [
    "# Day 30: April 30th 2020\n",
    "\n",
    "## Check If a String Is a Valid Sequence from Root to Leaves Path in a Binary Tree"
   ]
  },
  {
   "cell_type": "markdown",
   "metadata": {},
   "source": [
    "### Problem Statement:"
   ]
  },
  {
   "cell_type": "markdown",
   "metadata": {},
   "source": [
    "Given a binary tree where each path going from the root to any leaf form a valid sequence, check if a given string is a valid sequence in such binary tree. \n",
    "\n",
    "We get the given string from the concatenation of an array of integers arr and the concatenation of all values of the nodes along a path results in a sequence in the given binary tree.\n",
    "\n",
    "Constraints:\n",
    "\n",
    "1 <= arr.length <= 5000\n",
    "\n",
    "0 <= arr[i] <= 9\n",
    "\n",
    "Each node's value is between [0 - 9]."
   ]
  },
  {
   "cell_type": "markdown",
   "metadata": {},
   "source": [
    "### Code:"
   ]
  },
  {
   "cell_type": "code",
   "execution_count": 1,
   "metadata": {},
   "outputs": [],
   "source": [
    "# class TreeNode:\n",
    "#     def __init__(self, value=0, left=None, right=None):\n",
    "#         self.value = value\n",
    "#         self.left = left\n",
    "#         self.right = right\n",
    "        \n",
    "def isValidSequence(root, arr):\n",
    "    if arr[0] != root.value:\n",
    "        return False\n",
    "    n = len(arr)\n",
    "    ans = False\n",
    "    def valid(i, root):\n",
    "        nonlocal ans\n",
    "        if root.left == None and root.right == None and i == n-1:\n",
    "            ans = True\n",
    "            return\n",
    "        if i == n-1:\n",
    "            return\n",
    "        i += 1\n",
    "        if root.left and arr[i] == root.left.value:\n",
    "            valid(i,root.left)\n",
    "        if root.right and arr[i] == root.right.value:\n",
    "            valid(i,root.right)           \n",
    "    valid(0, root)\n",
    "    return ans"
   ]
  },
  {
   "cell_type": "markdown",
   "metadata": {},
   "source": [
    "### Testing:"
   ]
  },
  {
   "cell_type": "code",
   "execution_count": 2,
   "metadata": {},
   "outputs": [],
   "source": [
    "# To test the code make sure to install binarytree\n",
    "# pip install binarytree\n",
    "\n",
    "from binarytree import build"
   ]
  },
  {
   "cell_type": "markdown",
   "metadata": {},
   "source": [
    "#### Example 1:"
   ]
  },
  {
   "cell_type": "code",
   "execution_count": 3,
   "metadata": {
    "scrolled": true
   },
   "outputs": [
    {
     "name": "stdout",
     "output_type": "stream",
     "text": [
      "\n",
      "      ______0__\n",
      "     /         \\\n",
      "  __1__         0\n",
      " /     \\       /\n",
      "0       1     0\n",
      " \\     / \\\n",
      "  1   0   0\n",
      "\n"
     ]
    },
    {
     "data": {
      "text/plain": [
       "True"
      ]
     },
     "execution_count": 3,
     "metadata": {},
     "output_type": "execute_result"
    }
   ],
   "source": [
    "nodes = [0,1,0,0,1,0,None,None,1,0,0]\n",
    "tree = build(nodes)\n",
    "arr = [0,1,0,1]\n",
    "print(tree)\n",
    "isValidSequence(tree, arr)"
   ]
  },
  {
   "cell_type": "markdown",
   "metadata": {},
   "source": [
    "Explanation:\n",
    "\n",
    "The path 0 -> 1 -> 0 -> 1 is a valid sequence. \n",
    "\n",
    "Other valid sequences are: \n",
    "\n",
    "0 -> 1 -> 1 -> 0 \n",
    "\n",
    "0 -> 0 -> 0"
   ]
  },
  {
   "cell_type": "markdown",
   "metadata": {},
   "source": [
    "#### Example 2:"
   ]
  },
  {
   "cell_type": "code",
   "execution_count": 4,
   "metadata": {},
   "outputs": [
    {
     "name": "stdout",
     "output_type": "stream",
     "text": [
      "\n",
      "      ______0__\n",
      "     /         \\\n",
      "  __1__         0\n",
      " /     \\       /\n",
      "0       1     0\n",
      " \\     / \\\n",
      "  1   0   0\n",
      "\n"
     ]
    },
    {
     "data": {
      "text/plain": [
       "False"
      ]
     },
     "execution_count": 4,
     "metadata": {},
     "output_type": "execute_result"
    }
   ],
   "source": [
    "nodes = [0,1,0,0,1,0,None,None,1,0,0]\n",
    "tree = build(nodes)\n",
    "arr = [0,0,1]\n",
    "print(tree)\n",
    "isValidSequence(tree, arr)"
   ]
  },
  {
   "cell_type": "markdown",
   "metadata": {},
   "source": [
    "Explanation:\n",
    "\n",
    "The path 0 -> 0 -> 1 does not exist, therefore it is not even a sequence."
   ]
  },
  {
   "cell_type": "markdown",
   "metadata": {},
   "source": [
    "#### Example 3:"
   ]
  },
  {
   "cell_type": "code",
   "execution_count": 5,
   "metadata": {
    "scrolled": true
   },
   "outputs": [
    {
     "name": "stdout",
     "output_type": "stream",
     "text": [
      "\n",
      "      ______0__\n",
      "     /         \\\n",
      "  __1__         0\n",
      " /     \\       /\n",
      "0       1     0\n",
      " \\     / \\\n",
      "  1   0   0\n",
      "\n"
     ]
    },
    {
     "data": {
      "text/plain": [
       "False"
      ]
     },
     "execution_count": 5,
     "metadata": {},
     "output_type": "execute_result"
    }
   ],
   "source": [
    "nodes = [0,1,0,0,1,0,None,None,1,0,0]\n",
    "tree = build(nodes)\n",
    "arr = [0,1,1]\n",
    "print(tree)\n",
    "isValidSequence(tree, arr)"
   ]
  },
  {
   "cell_type": "markdown",
   "metadata": {},
   "source": [
    "Explanation:\n",
    "\n",
    "The path 0 -> 1 -> 1 is a sequence, but it is not a valid sequence."
   ]
  },
  {
   "cell_type": "markdown",
   "metadata": {},
   "source": [
    "#### Example 4:"
   ]
  },
  {
   "cell_type": "code",
   "execution_count": 6,
   "metadata": {},
   "outputs": [
    {
     "name": "stdout",
     "output_type": "stream",
     "text": [
      "\n",
      "        ____1____\n",
      "       /         \\\n",
      "    __2__         2__\n",
      "   /     \\       /   \\\n",
      "  7       3     6     4\n",
      " / \\     /     /     /\n",
      "6   2   2     9     2\n",
      "\n"
     ]
    },
    {
     "data": {
      "text/plain": [
       "True"
      ]
     },
     "execution_count": 6,
     "metadata": {},
     "output_type": "execute_result"
    }
   ],
   "source": [
    "nodes = [1,2,2,7,3,6,4,6,2,2,None,9,None,2,None] \n",
    "tree = build(nodes)\n",
    "arr = [1,2,6,9]\n",
    "print(tree)\n",
    "isValidSequence(tree, arr)"
   ]
  },
  {
   "cell_type": "markdown",
   "metadata": {},
   "source": [
    "Explanation:\n",
    "\n",
    "The path 1 -> 2 -> 6 -> 9 is a valid sequence. "
   ]
  },
  {
   "cell_type": "markdown",
   "metadata": {},
   "source": [
    "### Evaluation:"
   ]
  },
  {
   "cell_type": "markdown",
   "metadata": {},
   "source": [
    "The runtime complexity of this code is O(N). Below you can see the submission details for my code."
   ]
  },
  {
   "cell_type": "code",
   "execution_count": 7,
   "metadata": {},
   "outputs": [
    {
     "data": {
      "image/png": "[encoded data removed]",
      "text/plain": [
       "<IPython.core.display.Image object>"
      ]
     },
     "execution_count": 7,
     "metadata": {},
     "output_type": "execute_result"
    }
   ],
   "source": [
    "from IPython.display import Image\n",
    "Image(\"check-if-a-string-is-a-valid-sequence-from-root-to-leaves-path-in-a-binary-tree.png\")"
   ]
  },
  {
   "cell_type": "code",
   "execution_count": null,
   "metadata": {},
   "outputs": [],
   "source": []
  }
 ],
 "metadata": {
  "kernelspec": {
   "display_name": "Python 3",
   "language": "python",
   "name": "python3"
  },
  "language_info": {
   "codemirror_mode": {
    "name": "ipython",
    "version": 3
   },
   "file_extension": ".py",
   "mimetype": "text/x-python",
   "name": "python",
   "nbconvert_exporter": "python",
   "pygments_lexer": "ipython3",
   "version": "3.7.3"
  }
 },
 "nbformat": 4,
 "nbformat_minor": 2
}
